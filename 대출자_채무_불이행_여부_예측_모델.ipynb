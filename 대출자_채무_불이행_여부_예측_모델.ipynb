{
  "nbformat": 4,
  "nbformat_minor": 0,
  "metadata": {
    "colab": {
      "private_outputs": true,
      "provenance": [],
      "authorship_tag": "ABX9TyOkGE2DGQNarkuITfnvJDJs",
      "include_colab_link": true
    },
    "kernelspec": {
      "name": "python3",
      "display_name": "Python 3"
    },
    "language_info": {
      "name": "python"
    }
  },
  "cells": [
    {
      "cell_type": "markdown",
      "metadata": {
        "id": "view-in-github",
        "colab_type": "text"
      },
      "source": [
        "<a href=\"https://colab.research.google.com/github/ssukddeok/doit_dsalgo_with_python/blob/master/%EB%8C%80%EC%B6%9C%EC%9E%90_%EC%B1%84%EB%AC%B4_%EB%B6%88%EC%9D%B4%ED%96%89_%EC%97%AC%EB%B6%80_%EC%98%88%EC%B8%A1_%EB%AA%A8%EB%8D%B8.ipynb\" target=\"_parent\"><img src=\"https://colab.research.google.com/assets/colab-badge.svg\" alt=\"Open In Colab\"/></a>"
      ]
    },
    {
      "cell_type": "code",
      "source": [
        "from google.colab import drive\n",
        "drive.mount('/content/drive')"
      ],
      "metadata": {
        "id": "ApYgHopruAdG"
      },
      "execution_count": null,
      "outputs": []
    },
    {
      "cell_type": "code",
      "source": [
        "import pandas as pd\n",
        "import numpy as np\n",
        "from tqdm import tqdm\n",
        "from sklearn.model_selection import train_test_split\n",
        "from sklearn.ensemble import RandomForestClassifier\n",
        "from sklearn.metrics import f1_score\n",
        "from imblearn.over_sampling import SMOTE\n",
        "from sklearn.preprocessing import StandardScaler\n",
        "from sklearn.model_selection import train_test_split, GridSearchCV"
      ],
      "metadata": {
        "id": "QEsP_5yRt8c_"
      },
      "execution_count": null,
      "outputs": []
    },
    {
      "cell_type": "code",
      "source": [
        "# 데이터 불러오기\n",
        "train_data = pd.read_csv('/content/drive/MyDrive/Colab Notebooks/과제/train (2).csv')\n",
        "test_data = pd.read_csv('/content/drive/MyDrive/Colab Notebooks/과제/test (2)/test (1).csv')"
      ],
      "metadata": {
        "id": "dYXI2didt-yP"
      },
      "execution_count": null,
      "outputs": []
    },
    {
      "cell_type": "code",
      "source": [
        "# 종속 변수 설정\n",
        "y = train_data['depvar']"
      ],
      "metadata": {
        "id": "JwUPS4YN-Y08"
      },
      "execution_count": null,
      "outputs": []
    },
    {
      "cell_type": "code",
      "source": [
        "# 독립 변수 설정 (ID 열이 존재하는 경우에만 해당 열을 제거)\n",
        "if 'ID' in train_data.columns:\n",
        "    X = train_data.drop(columns=['depvar', 'ID'])\n",
        "else:\n",
        "    X = train_data.drop(columns=['depvar'])"
      ],
      "metadata": {
        "id": "JMeGrNk9-xSz"
      },
      "execution_count": null,
      "outputs": []
    },
    {
      "cell_type": "code",
      "source": [
        "# 훈련 데이터와 검증 데이터 분리\n",
        "X_train, X_val, y_train, y_val = train_test_split(X, y, test_size=0.2, random_state=42)"
      ],
      "metadata": {
        "id": "D1Q2LmZvDs5e"
      },
      "execution_count": null,
      "outputs": []
    },
    {
      "cell_type": "code",
      "source": [
        "# 모델 초기화 및 학습\n",
        "model = RandomForestClassifier(random_state=42)\n",
        "model.fit(X_train, y_train)"
      ],
      "metadata": {
        "id": "BdHY4EOeDvw8"
      },
      "execution_count": null,
      "outputs": []
    },
    {
      "cell_type": "code",
      "source": [
        "# 검증 데이터 평가\n",
        "y_pred = model.predict(X_val)\n",
        "f1_macro = f1_score(y_val, y_pred, average='macro')\n",
        "print(\"Validation Macro F1 Score:\", f1_macro)"
      ],
      "metadata": {
        "id": "HLe4TeZQDxuz"
      },
      "execution_count": null,
      "outputs": []
    },
    {
      "cell_type": "code",
      "source": [
        "# 테스트 데이터 예측\n",
        "test_predictions = []\n",
        "with tqdm(total=len(test_data), desc=\"Predicting\") as pbar:\n",
        "    for i in range(len(test_data)):\n",
        "        test_predictions.append(model.predict([test_data.drop(columns='ID').iloc[i]]))\n",
        "        pbar.update(1)"
      ],
      "metadata": {
        "id": "7C1T9jxBD3OL"
      },
      "execution_count": null,
      "outputs": []
    },
    {
      "cell_type": "code",
      "source": [
        "# 예측 결과 저장\n",
        "submission = pd.DataFrame({'ID': test_data['ID'], 'answer': np.array(test_predictions).flatten()})\n",
        "submission.to_csv('/content/drive/MyDrive/Colab Notebooks/과제/submission.csv', index=False)"
      ],
      "metadata": {
        "id": "pa58xtLOD5DN"
      },
      "execution_count": null,
      "outputs": []
    },
    {
      "cell_type": "code",
      "source": [],
      "metadata": {
        "id": "diqotUi5H7Ny"
      },
      "execution_count": null,
      "outputs": []
    }
  ]
}